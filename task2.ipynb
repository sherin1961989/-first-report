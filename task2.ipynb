{
 "cells": [
  {
   "cell_type": "markdown",
   "id": "cf86302f",
   "metadata": {},
   "source": [
    "1.Suppose a child psychologist says that the average time that working mothers spend talking to their children is at-least 11 minutes per day. You want to test.You conduct a random sample of 1000 working mothers and find they spend an average of 11.5 minutes per day talking with their children. Assume prior research suggests the population standard deviation is 2.3 minutes.\n",
    "Conduct test with a level of significance of alpha=0.05\n"
   ]
  },
  {
   "cell_type": "code",
   "execution_count": null,
   "id": "95e2667e",
   "metadata": {},
   "outputs": [],
   "source": [
    "H0 (Null Hypothesis): μ ≤ 11 minutes (The average time spent talking to children is 11 minutes or less).\n",
    "Ha (Alternative Hypothesis): μ > 11 minutes (The average time spent talking to children is more than 11 minutes).\n",
    "\n",
    "Significance level (alpha) is given as 0.05.\n",
    "Sample mean (x̄) = 11.5 minutes\n",
    "Population standard deviation (σ) = 2.3 minutes\n",
    "\n",
    "\n",
    "\n",
    "Now, calculate the test statistic (z-score):\n",
    "    \n",
    "z=(x̄-μ/σ)\n",
    "\n"
   ]
  },
  {
   "cell_type": "code",
   "execution_count": 2,
   "id": "9ab33af7",
   "metadata": {},
   "outputs": [
    {
     "data": {
      "text/plain": [
       "0.2173913043478261"
      ]
     },
     "execution_count": 2,
     "metadata": {},
     "output_type": "execute_result"
    }
   ],
   "source": [
    "z=(11.5-11)/2.3\n",
    "z"
   ]
  },
  {
   "cell_type": "code",
   "execution_count": null,
   "id": "1a9432a9",
   "metadata": {},
   "outputs": [],
   "source": [
    "Significance level (alpha) is given as 0.05.\n",
    "\n",
    "From the z score table, the fraction of the data within this score is 0.5987.\n",
    "\n",
    "This means 59.87 % "
   ]
  },
  {
   "cell_type": "code",
   "execution_count": null,
   "id": "8d9344e4",
   "metadata": {},
   "outputs": [],
   "source": [
    " At alpha = 0.05, the critical value is approximately 1.645 (for a one-tailed test).\n",
    "\n",
    "Finally, we can make a decision:\n",
    "\n",
    "\n",
    "Ifz>1.645, we reject the null hypothesis.\n",
    "If z≤1.645 we fail to reject the null hypothesis.\n",
    "\n",
    "\n",
    "SO we  we can conclude with this result that  our null hypothesis is acceptable."
   ]
  },
  {
   "cell_type": "markdown",
   "id": "7a17c6c7",
   "metadata": {},
   "source": [
    "2.A coffee shop claims that their average wait time for customers is less than 5 minutes. \n",
    "To test this claim, a sample of 40 customers is taken, and their wait times are recorded.\n",
    "The sample mean wait time is found to be 4.6 minutes with a standard deviation of 0.8 minutes. \n",
    "Perform a hypothesis test at a significance level of 0.05 and determine whether there is enough evidence to support the coffee shop's claim.\n",
    "Perform the hypothesis testing using correct test statistics and appropriate critical value\n"
   ]
  },
  {
   "cell_type": "code",
   "execution_count": null,
   "id": "1a45dcff",
   "metadata": {},
   "outputs": [],
   "source": [
    "    H0 (Null Hypothesis): μ ≥ 5 minutes (The average wait time is 5 minutes or more). \n",
    "    Ha (Alternative Hypothesis): μ < 5 minutes (The average wait time is less than 5 minutes).\n",
    "        \n",
    "    The significance level (alpha) is given as 0.05.\n",
    "\n",
    "Now, let's calculate the test statistic \n",
    "Sample mean (x̄) = 4.6 minutes\n",
    "Sample standard deviation (s) = 0.8 minutes\n",
    "Sample size (n) = 40\n"
   ]
  },
  {
   "cell_type": "markdown",
   "id": "acae1412",
   "metadata": {},
   "source": [
    "we know that our sample size is small(40) and the population standard deviation is not known. So we consider t test"
   ]
  },
  {
   "cell_type": "code",
   "execution_count": 3,
   "id": "8b63cd4e",
   "metadata": {},
   "outputs": [
    {
     "data": {
      "text/plain": [
       "-3.162277660168382"
      ]
     },
     "execution_count": 3,
     "metadata": {},
     "output_type": "execute_result"
    }
   ],
   "source": [
    "t=(4.6-5)/(0.8/(40**0.5))\n",
    "t"
   ]
  },
  {
   "cell_type": "code",
   "execution_count": null,
   "id": "4670b2c1",
   "metadata": {},
   "outputs": [],
   "source": [
    "If t<−1.684, we reject the null hypothesis.\n",
    "If t≥−1.684, we fail to reject the null hypothesis.\n",
    "\n"
   ]
  },
  {
   "cell_type": "code",
   "execution_count": null,
   "id": "e9b9a71c",
   "metadata": {},
   "outputs": [],
   "source": [
    "critical value is 1.6849(right-tailed test). \n",
    "\n",
    "SO we  we can conclude with this result that  our null hypothesis is acceptable.\n",
    "(i.e,The average wait time is 5 minutes or more). \n",
    "\n"
   ]
  },
  {
   "cell_type": "code",
   "execution_count": null,
   "id": "01b0c3df",
   "metadata": {},
   "outputs": [],
   "source": []
  }
 ],
 "metadata": {
  "kernelspec": {
   "display_name": "Python 3 (ipykernel)",
   "language": "python",
   "name": "python3"
  },
  "language_info": {
   "codemirror_mode": {
    "name": "ipython",
    "version": 3
   },
   "file_extension": ".py",
   "mimetype": "text/x-python",
   "name": "python",
   "nbconvert_exporter": "python",
   "pygments_lexer": "ipython3",
   "version": "3.11.2"
  }
 },
 "nbformat": 4,
 "nbformat_minor": 5
}
